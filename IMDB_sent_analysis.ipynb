{
 "cells": [
  {
   "cell_type": "code",
   "execution_count": 1,
   "id": "661476b3-e1c7-478d-982c-5e82634e6183",
   "metadata": {},
   "outputs": [],
   "source": [
    "import  tensorflow_datasets as tfds\n",
    "import tensorflow as tf\n",
    "import numpy as np"
   ]
  },
  {
   "cell_type": "code",
   "execution_count": 2,
   "id": "0842c55f-eb56-4ad1-9c1e-04e1df9e4bde",
   "metadata": {},
   "outputs": [
    {
     "name": "stdout",
     "output_type": "stream",
     "text": [
      "GPU is NOT AVAILABLE\n"
     ]
    }
   ],
   "source": [
    "print(\"GPU is\", \"available\" if tf.config.list_physical_devices(\"GPU\") else \"NOT AVAILABLE\")"
   ]
  },
  {
   "cell_type": "code",
   "execution_count": 3,
   "id": "a29f8943-420a-4970-875f-5714917e3e68",
   "metadata": {},
   "outputs": [],
   "source": [
    "dataset,info = tfds.load('imdb_reviews',as_supervised=True,with_info=True)"
   ]
  },
  {
   "cell_type": "code",
   "execution_count": 4,
   "id": "6de8c1a8-bbdb-4da4-845a-337939c59980",
   "metadata": {},
   "outputs": [
    {
     "name": "stdout",
     "output_type": "stream",
     "text": [
      "25000\n",
      "25000\n"
     ]
    }
   ],
   "source": [
    "train,test = dataset['train'], dataset['test']\n",
    "print(len(train))\n",
    "print(len(test))"
   ]
  },
  {
   "cell_type": "code",
   "execution_count": 5,
   "id": "be5b2fce-316f-422f-b591-44ffc7f6b43d",
   "metadata": {},
   "outputs": [],
   "source": [
    "from tensorflow.keras.preprocessing.text import Tokenizer\n",
    "from tensorflow.keras.preprocessing.sequence import pad_sequences\n",
    "stopwords = ['i', 'me', 'my', 'myself', 'we', 'our', 'ours', 'ourselves', 'you', \"you're\", \"you've\", \"you'll\", \"you'd\", 'your', 'yours', 'yourself', 'yourselves', 'he', 'him', 'his', 'himself', 'she', \"she's\", 'her', 'hers', 'herself', 'it', \"it's\", 'its', 'itself', 'they', 'them', 'their', 'theirs', 'themselves', 'what', 'which', 'who', 'whom', 'this', 'that', \"that'll\", 'these', 'those', 'am', 'is', 'are', 'was', 'were', 'be', 'been', 'being', 'have', 'has', 'had', 'having', 'do', 'does', 'did', 'doing', 'a', 'an', 'the', 'and', 'but', 'if', 'or', 'because', 'as', 'until', 'while', 'of', 'at', 'by', 'for', 'with', 'about', 'against', 'between', 'into', 'through', 'during', 'before', 'after', 'above', 'below', 'to', 'from', 'up', 'down', 'in', 'out', 'on', 'off', 'over', 'under', 'again', 'further', 'then', 'once', 'here', 'there', 'when', 'where', 'why', 'how', 'all', 'any', 'both', 'each', 'few', 'more', 'most', 'other', 'some', 'such', 'no', 'nor', 'not', 'only', 'own', 'same', 'so', 'than', 'too', 'very', 's', 't', 'can', 'will', 'just', 'don', \"don't\", 'should', \"should've\", 'now', 'd', 'll', 'm', 'o', 're', 've', 'y', 'ain', 'aren', \"aren't\", 'couldn', \"couldn't\", 'didn', \"didn't\", 'doesn', \"doesn't\", 'hadn', \"hadn't\", 'hasn', \"hasn't\", 'haven', \"haven't\", 'isn', \"isn't\", 'ma', 'mightn', \"mightn't\", 'mustn', \"mustn't\", 'needn', \"needn't\", 'shan', \"shan't\", 'shouldn', \"shouldn't\", 'wasn', \"wasn't\", 'weren', \"weren't\", 'won', \"won't\", 'wouldn', \"wouldn't\"]"
   ]
  },
  {
   "cell_type": "code",
   "execution_count": 6,
   "id": "29434a86-4da3-4a33-b414-b08989da995c",
   "metadata": {},
   "outputs": [],
   "source": [
    "train_sentences = []\n",
    "train_labels = []\n",
    "for x,y in train:\n",
    "    x = [word for word in x.numpy().decode('utf8').split(\" \") if word.lower() not in stopwords]\n",
    "    x = \" \".join(x)\n",
    "    train_sentences.append(x)\n",
    "    train_labels.append(y.numpy())\n",
    "train_labels = np.asarray(train_labels).astype(np.float32)"
   ]
  },
  {
   "cell_type": "code",
   "execution_count": 7,
   "id": "58d6fb23-e3b3-4109-8956-4dc2203ae053",
   "metadata": {},
   "outputs": [],
   "source": [
    "test_sentences =[]\n",
    "test_labels = []\n",
    "for x,y in test:\n",
    "    #remove stop words\n",
    "    x = [word for word in x.numpy().decode('utf8').split(\" \") if word.lower() not in stopwords]\n",
    "    x = \" \".join(x)\n",
    "    test_sentences.append(x)\n",
    "    test_labels.append(y.numpy())\n",
    "test_labels = np.asarray(test_labels).astype(np.float32)"
   ]
  },
  {
   "cell_type": "code",
   "execution_count": 8,
   "id": "0d8ecdb0-95b1-4c4d-895a-e903a2d69d37",
   "metadata": {},
   "outputs": [
    {
     "name": "stdout",
     "output_type": "stream",
     "text": [
      "88579\n"
     ]
    }
   ],
   "source": [
    "#Encode the words, you encode only training data\n",
    "tokenizer = Tokenizer(oov_token='<OOV>')\n",
    "tokenizer.fit_on_texts(train_sentences)\n",
    "print(len(tokenizer.word_index))"
   ]
  },
  {
   "cell_type": "code",
   "execution_count": 9,
   "id": "26688d46-d3e1-401d-bf58-b71834376021",
   "metadata": {},
   "outputs": [],
   "source": [
    "#Convert sent to seq based on above encode\n",
    "train_seq = tokenizer.texts_to_sequences(train_sentences)\n",
    "test_seq = tokenizer.texts_to_sequences(test_sentences)"
   ]
  },
  {
   "cell_type": "code",
   "execution_count": 10,
   "id": "9736f761-2af6-4c53-b326-e9ccc359dd7f",
   "metadata": {},
   "outputs": [],
   "source": [
    "#Pad the train_seq, test_seq to same lenth of 250 word\n",
    "padded_train_seq = pad_sequences(train_seq, maxlen=250,truncating='post')\n",
    "padded_test_seq = pad_sequences(test_seq, maxlen=250)"
   ]
  },
  {
   "cell_type": "code",
   "execution_count": 11,
   "id": "cd2605e0-7f29-4314-8f30-314b138449d6",
   "metadata": {},
   "outputs": [
    {
     "name": "stdout",
     "output_type": "stream",
     "text": [
      "(25000, 250)\n",
      "(25000, 250)\n"
     ]
    }
   ],
   "source": [
    "print(padded_train_seq.shape)\n",
    "print(padded_test_seq.shape)"
   ]
  },
  {
   "cell_type": "code",
   "execution_count": 12,
   "id": "d146cfb6-4d43-4bd9-9424-b988d47f86b5",
   "metadata": {},
   "outputs": [
    {
     "name": "stdout",
     "output_type": "stream",
     "text": [
      "Model: \"sequential\"\n",
      "_________________________________________________________________\n",
      "Layer (type)                 Output Shape              Param #   \n",
      "=================================================================\n",
      "embedding (Embedding)        (None, 250, 16)           1417280   \n",
      "_________________________________________________________________\n",
      "flatten (Flatten)            (None, 4000)              0         \n",
      "_________________________________________________________________\n",
      "dense (Dense)                (None, 6)                 24006     \n",
      "_________________________________________________________________\n",
      "dense_1 (Dense)              (None, 1)                 7         \n",
      "=================================================================\n",
      "Total params: 1,441,293\n",
      "Trainable params: 1,441,293\n",
      "Non-trainable params: 0\n",
      "_________________________________________________________________\n"
     ]
    }
   ],
   "source": [
    "#Define and compile the model\n",
    "vocab_size = len(tokenizer.word_index)+1\n",
    "embedding_dim = 16\n",
    "max_length = 250\n",
    "model = tf.keras.Sequential([\n",
    "    tf.keras.layers.Embedding(vocab_size, embedding_dim, input_length=max_length),\n",
    "    tf.keras.layers.Flatten(),\n",
    "    tf.keras.layers.Dense(6, activation='relu'),\n",
    "    tf.keras.layers.Dense(1, activation='sigmoid')\n",
    "])\n",
    "model.compile(loss='binary_crossentropy',optimizer='adam',metrics=['accuracy'])\n",
    "model.summary()\n"
   ]
  },
  {
   "cell_type": "code",
   "execution_count": 13,
   "id": "1c43eea6-8e1f-47d7-8d94-22a821bbafdf",
   "metadata": {},
   "outputs": [
    {
     "name": "stdout",
     "output_type": "stream",
     "text": [
      "<class 'numpy.ndarray'>\n",
      "<class 'numpy.ndarray'>\n",
      "<class 'numpy.ndarray'>\n",
      "<class 'numpy.ndarray'>\n",
      "(25000, 250)\n",
      "(25000,)\n",
      "(25000, 250)\n",
      "(25000,)\n",
      "Epoch 1/10\n",
      "782/782 - 15s - loss: 0.4034 - accuracy: 0.7989 - val_loss: 0.2922 - val_accuracy: 0.8756\n",
      "Epoch 2/10\n",
      "782/782 - 14s - loss: 0.1204 - accuracy: 0.9580 - val_loss: 0.3168 - val_accuracy: 0.8716\n",
      "Epoch 3/10\n",
      "782/782 - 14s - loss: 0.0255 - accuracy: 0.9953 - val_loss: 0.3757 - val_accuracy: 0.8684\n",
      "Epoch 4/10\n",
      "782/782 - 14s - loss: 0.0048 - accuracy: 0.9996 - val_loss: 0.4140 - val_accuracy: 0.8717\n",
      "Epoch 5/10\n",
      "782/782 - 14s - loss: 0.0013 - accuracy: 1.0000 - val_loss: 0.4480 - val_accuracy: 0.8714\n",
      "Epoch 6/10\n",
      "782/782 - 14s - loss: 5.9291e-04 - accuracy: 1.0000 - val_loss: 0.4770 - val_accuracy: 0.8715\n",
      "Epoch 7/10\n",
      "782/782 - 14s - loss: 3.1080e-04 - accuracy: 1.0000 - val_loss: 0.5043 - val_accuracy: 0.8708\n",
      "Epoch 8/10\n",
      "782/782 - 14s - loss: 1.7871e-04 - accuracy: 1.0000 - val_loss: 0.5285 - val_accuracy: 0.8710\n"
     ]
    }
   ],
   "source": [
    "print(type(padded_train_seq))\n",
    "print(type(train_labels))\n",
    "print(type(padded_test_seq))\n",
    "print(type(test_labels))\n",
    "print(padded_train_seq.shape)\n",
    "print(train_labels.shape)\n",
    "print(padded_test_seq.shape)\n",
    "print(test_labels.shape)\n",
    "\n",
    "\n",
    "history = model.fit(padded_train_seq, train_labels, \n",
    "                    epochs=10,\n",
    "                    callbacks = [tf.keras.callbacks.EarlyStopping(monitor='accuracy',patience=3)],\n",
    "                    validation_data=(padded_test_seq,test_labels),\n",
    "                     verbose=2)"
   ]
  },
  {
   "cell_type": "code",
   "execution_count": 14,
   "id": "0ea550a7-7312-4e45-bd2e-5f114b773666",
   "metadata": {},
   "outputs": [
    {
     "data": {
      "image/png": "[encoded data removed]",
      "text/plain": [
       "<Figure size 432x288 with 1 Axes>"
      ]
     },
     "metadata": {
      "needs_background": "light"
     },
     "output_type": "display_data"
    }
   ],
   "source": [
    "from matplotlib import pyplot as plt\n",
    "plt.plot(history.history['accuracy'])\n",
    "plt.plot(history.history['val_accuracy'])\n",
    "plt.title('model accuracy')\n",
    "plt.ylabel('accuracy')\n",
    "plt.xlabel('epoch')\n",
    "plt.legend(['train', 'val'], loc='upper left')\n",
    "plt.show()"
   ]
  },
  {
   "cell_type": "code",
   "execution_count": 15,
   "id": "435cbf80-29fd-4352-9059-63f150f6cc1c",
   "metadata": {},
   "outputs": [
    {
     "data": {
      "image/png": "[encoded data removed]",
      "text/plain": [
       "<Figure size 432x288 with 1 Axes>"
      ]
     },
     "metadata": {
      "needs_background": "light"
     },
     "output_type": "display_data"
    }
   ],
   "source": [
    "plt.plot(history.history['loss'])\n",
    "plt.plot(history.history['val_loss'])\n",
    "plt.title('model loss')\n",
    "plt.ylabel('loss')\n",
    "plt.xlabel('epoch')\n",
    "plt.legend(['train', 'val'], loc='upper left')\n",
    "plt.show()"
   ]
  },
  {
   "cell_type": "code",
   "execution_count": 17,
   "id": "60f1b69c-ceb1-4a32-ad8f-f1a49b62e2cf",
   "metadata": {},
   "outputs": [
    {
     "name": "stdout",
     "output_type": "stream",
     "text": [
      "782/782 [==============================] - 1s 1ms/step - loss: 0.5285 - accuracy: 0.8710\n",
      "test loss, test acc: [0.5284759998321533, 0.8710399866104126]\n"
     ]
    }
   ],
   "source": [
    "score = model.evaluate(padded_test_seq,test_labels)\n",
    "print(\"test loss, test acc:\", score)\n"
   ]
  }
 ],
 "metadata": {
  "kernelspec": {
   "display_name": "Python 3",
   "language": "python",
   "name": "python3"
  },
  "language_info": {
   "codemirror_mode": {
    "name": "ipython",
    "version": 3
   },
   "file_extension": ".py",
   "mimetype": "text/x-python",
   "name": "python",
   "nbconvert_exporter": "python",
   "pygments_lexer": "ipython3",
   "version": "3.8.8"
  }
 },
 "nbformat": 4,
 "nbformat_minor": 5
}
